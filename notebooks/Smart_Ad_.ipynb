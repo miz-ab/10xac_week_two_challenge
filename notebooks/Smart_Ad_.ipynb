{
  "nbformat": 4,
  "nbformat_minor": 0,
  "metadata": {
    "colab": {
      "name": "Smart_Ad_.ipynb",
      "provenance": [],
      "collapsed_sections": [],
      "mount_file_id": "1z-DRCOd8yVywcptIWlQHqz_AMcA1LChR",
      "authorship_tag": "ABX9TyOk+7nQWBKkLSG/r+uQGN6F",
      "include_colab_link": true
    },
    "kernelspec": {
      "name": "python3",
      "display_name": "Python 3"
    },
    "language_info": {
      "name": "python"
    }
  },
  "cells": [
    {
      "cell_type": "markdown",
      "metadata": {
        "id": "view-in-github",
        "colab_type": "text"
      },
      "source": [
        "<a href=\"https://colab.research.google.com/github/miz-ab/10xac_week_two_challenge/blob/main/notebooks/Smart_Ad_.ipynb\" target=\"_parent\"><img src=\"https://colab.research.google.com/assets/colab-badge.svg\" alt=\"Open In Colab\"/></a>"
      ]
    },
    {
      "cell_type": "code",
      "metadata": {
        "colab": {
          "base_uri": "https://localhost:8080/"
        },
        "id": "zBPu-zKDLm9y",
        "outputId": "4c661d87-9958-4359-b555-a82e65892bb4"
      },
      "source": [
        "#import all necessary libraries\n",
        "import pandas as pd\n",
        "import numpy as np\n",
        "import matplotlib.pyplot as plt\n",
        "import scipy.stats as scs\n",
        "import statsmodels.api as sm\n",
        "import seaborn as sns\n",
        "from sklearn import preprocessing \n",
        "from sklearn.preprocessing import scale\n",
        "from scipy.stats import spearmanr\n",
        "from sklearn.preprocessing import MinMaxScaler\n",
        "from sklearn.model_selection import train_test_split\n",
        "from sklearn.linear_model import LogisticRegression\n",
        "from sklearn.tree import DecisionTreeClassifier\n",
        "from sklearn.model_selection import KFold\n",
        "from sklearn.model_selection import cross_val_score\n",
        "from sklearn.metrics import log_loss\n",
        "from sklearn import metrics\n",
        "from matplotlib import rcParams\n",
        "from matplotlib.pyplot import pie, axis, show\n",
        "from scipy.stats import norm\n",
        "import xgboost as xgb\n"
      ],
      "execution_count": 2,
      "outputs": [
        {
          "output_type": "stream",
          "text": [
            "/usr/local/lib/python3.7/dist-packages/statsmodels/tools/_testing.py:19: FutureWarning: pandas.util.testing is deprecated. Use the functions in the public API at pandas.testing instead.\n",
            "  import pandas.util.testing as tm\n"
          ],
          "name": "stderr"
        }
      ]
    },
    {
      "cell_type": "code",
      "metadata": {
        "colab": {
          "base_uri": "https://localhost:8080/"
        },
        "id": "aBZTvMSVQHGD",
        "outputId": "2a3133ba-2a7c-4b3f-d9d6-c7bd6e9fdbd5"
      },
      "source": [
        "from google.colab import drive\n",
        "drive.mount('/content/drive')"
      ],
      "execution_count": 3,
      "outputs": [
        {
          "output_type": "stream",
          "text": [
            "Drive already mounted at /content/drive; to attempt to forcibly remount, call drive.mount(\"/content/drive\", force_remount=True).\n"
          ],
          "name": "stdout"
        }
      ]
    },
    {
      "cell_type": "code",
      "metadata": {
        "id": "HsuN3eorMMah"
      },
      "source": [
        "pd.set_option('max_column', None)\n",
        "df= pd.read_csv('drive/MyDrive/AdSmartABdata .csv')"
      ],
      "execution_count": 4,
      "outputs": []
    },
    {
      "cell_type": "code",
      "metadata": {
        "colab": {
          "base_uri": "https://localhost:8080/",
          "height": 142
        },
        "id": "UfkeOEKKV4P8",
        "outputId": "df5bbd90-c94f-4270-b965-65629ad524b1"
      },
      "source": [
        "df.head(3)"
      ],
      "execution_count": 5,
      "outputs": [
        {
          "output_type": "execute_result",
          "data": {
            "text/html": [
              "<div>\n",
              "<style scoped>\n",
              "    .dataframe tbody tr th:only-of-type {\n",
              "        vertical-align: middle;\n",
              "    }\n",
              "\n",
              "    .dataframe tbody tr th {\n",
              "        vertical-align: top;\n",
              "    }\n",
              "\n",
              "    .dataframe thead th {\n",
              "        text-align: right;\n",
              "    }\n",
              "</style>\n",
              "<table border=\"1\" class=\"dataframe\">\n",
              "  <thead>\n",
              "    <tr style=\"text-align: right;\">\n",
              "      <th></th>\n",
              "      <th>auction_id</th>\n",
              "      <th>experiment</th>\n",
              "      <th>date</th>\n",
              "      <th>hour</th>\n",
              "      <th>device_make</th>\n",
              "      <th>platform_os</th>\n",
              "      <th>browser</th>\n",
              "      <th>yes</th>\n",
              "      <th>no</th>\n",
              "    </tr>\n",
              "  </thead>\n",
              "  <tbody>\n",
              "    <tr>\n",
              "      <th>0</th>\n",
              "      <td>0008ef63-77a7-448b-bd1e-075f42c55e39</td>\n",
              "      <td>exposed</td>\n",
              "      <td>2020-07-10</td>\n",
              "      <td>8</td>\n",
              "      <td>Generic Smartphone</td>\n",
              "      <td>6</td>\n",
              "      <td>Chrome Mobile</td>\n",
              "      <td>0</td>\n",
              "      <td>0</td>\n",
              "    </tr>\n",
              "    <tr>\n",
              "      <th>1</th>\n",
              "      <td>000eabc5-17ce-4137-8efe-44734d914446</td>\n",
              "      <td>exposed</td>\n",
              "      <td>2020-07-07</td>\n",
              "      <td>10</td>\n",
              "      <td>Generic Smartphone</td>\n",
              "      <td>6</td>\n",
              "      <td>Chrome Mobile</td>\n",
              "      <td>0</td>\n",
              "      <td>0</td>\n",
              "    </tr>\n",
              "    <tr>\n",
              "      <th>2</th>\n",
              "      <td>0016d14a-ae18-4a02-a204-6ba53b52f2ed</td>\n",
              "      <td>exposed</td>\n",
              "      <td>2020-07-05</td>\n",
              "      <td>2</td>\n",
              "      <td>E5823</td>\n",
              "      <td>6</td>\n",
              "      <td>Chrome Mobile WebView</td>\n",
              "      <td>0</td>\n",
              "      <td>1</td>\n",
              "    </tr>\n",
              "  </tbody>\n",
              "</table>\n",
              "</div>"
            ],
            "text/plain": [
              "                             auction_id experiment        date  hour  \\\n",
              "0  0008ef63-77a7-448b-bd1e-075f42c55e39    exposed  2020-07-10     8   \n",
              "1  000eabc5-17ce-4137-8efe-44734d914446    exposed  2020-07-07    10   \n",
              "2  0016d14a-ae18-4a02-a204-6ba53b52f2ed    exposed  2020-07-05     2   \n",
              "\n",
              "          device_make  platform_os                browser  yes  no  \n",
              "0  Generic Smartphone            6          Chrome Mobile    0   0  \n",
              "1  Generic Smartphone            6          Chrome Mobile    0   0  \n",
              "2               E5823            6  Chrome Mobile WebView    0   1  "
            ]
          },
          "metadata": {
            "tags": []
          },
          "execution_count": 5
        }
      ]
    },
    {
      "cell_type": "code",
      "metadata": {
        "colab": {
          "base_uri": "https://localhost:8080/"
        },
        "id": "3YL1H_h2WAhT",
        "outputId": "5a243357-dc67-4933-8f89-c5f88aea9a10"
      },
      "source": [
        "#filter users who chose \"yes\" or \"no\"\n",
        "responded = df[(df.yes == 1)|(df.no == 1)].reset_index()\n",
        "#drop the index from the original dataset\n",
        "responded.drop('index', axis=1, inplace=True)\n",
        "responded.shape"
      ],
      "execution_count": 6,
      "outputs": [
        {
          "output_type": "execute_result",
          "data": {
            "text/plain": [
              "(1243, 9)"
            ]
          },
          "metadata": {
            "tags": []
          },
          "execution_count": 6
        }
      ]
    },
    {
      "cell_type": "code",
      "metadata": {
        "colab": {
          "base_uri": "https://localhost:8080/"
        },
        "id": "z413EAFaWHwb",
        "outputId": "073b1a62-23a9-445b-837a-de5418ad89b7"
      },
      "source": [
        "#get unique values of each column\n",
        "responded.nunique()"
      ],
      "execution_count": 7,
      "outputs": [
        {
          "output_type": "execute_result",
          "data": {
            "text/plain": [
              "auction_id     1243\n",
              "experiment        2\n",
              "date              8\n",
              "hour             24\n",
              "device_make     115\n",
              "platform_os       2\n",
              "browser           8\n",
              "yes               2\n",
              "no                2\n",
              "dtype: int64"
            ]
          },
          "metadata": {
            "tags": []
          },
          "execution_count": 7
        }
      ]
    },
    {
      "cell_type": "code",
      "metadata": {
        "id": "RUrT_xJCWMQL"
      },
      "source": [
        "def count_plot(variable):\n",
        "    sns.countplot(x=variable, data=responded)\n",
        "    \n",
        "def bar_plot(variable):\n",
        "    sns.barplot(y=variable, x='yes', data=responded, orient='h')"
      ],
      "execution_count": 8,
      "outputs": []
    },
    {
      "cell_type": "code",
      "metadata": {
        "colab": {
          "base_uri": "https://localhost:8080/",
          "height": 264
        },
        "id": "UvlEQhWMWXtr",
        "outputId": "c3798e75-e165-4abb-8abf-07856feb958d"
      },
      "source": [
        "sums = responded[\"yes\"].groupby(responded.experiment).sum()\n",
        "plt.title(\"experiment group count\")\n",
        "axis('equal');\n",
        "pie(sums, labels=sums.index);\n",
        "show()"
      ],
      "execution_count": 9,
      "outputs": [
        {
          "output_type": "display_data",
          "data": {
            "image/png": "[encoded data removed]",
            "text/plain": [
              "<Figure size 432x288 with 1 Axes>"
            ]
          },
          "metadata": {
            "tags": []
          }
        }
      ]
    },
    {
      "cell_type": "code",
      "metadata": {
        "colab": {
          "base_uri": "https://localhost:8080/",
          "height": 567
        },
        "id": "e6RPM1PzWa2j",
        "outputId": "0439170b-1017-4df4-be79-65c1dbcbb442"
      },
      "source": [
        "#plot value counts columns\n",
        "plt.figure(figsize=(12,9))\n",
        "plt.title(\"date count plot\")\n",
        "count_plot( \"date\")"
      ],
      "execution_count": 10,
      "outputs": [
        {
          "output_type": "display_data",
          "data": {
            "image/png": "[encoded data removed]",
            "text/plain": [
              "<Figure size 864x648 with 1 Axes>"
            ]
          },
          "metadata": {
            "tags": [],
            "needs_background": "light"
          }
        }
      ]
    },
    {
      "cell_type": "code",
      "metadata": {
        "colab": {
          "base_uri": "https://localhost:8080/",
          "height": 567
        },
        "id": "0G-PmbyZWiYr",
        "outputId": "d68ddcde-c895-4470-978c-1b0c5261106a"
      },
      "source": [
        "plt.figure(figsize=(12,9))\n",
        "plt.title(\"hour count plot\")\n",
        "count_plot( \"hour\")"
      ],
      "execution_count": 11,
      "outputs": [
        {
          "output_type": "display_data",
          "data": {
            "image/png": "[encoded data removed]",
            "text/plain": [
              "<Figure size 864x648 with 1 Axes>"
            ]
          },
          "metadata": {
            "tags": [],
            "needs_background": "light"
          }
        }
      ]
    },
    {
      "cell_type": "code",
      "metadata": {
        "colab": {
          "base_uri": "https://localhost:8080/",
          "height": 567
        },
        "id": "JcMJbbG4WvbT",
        "outputId": "2d6f24c1-948d-425e-cdd6-95b249d45e8a"
      },
      "source": [
        "plt.figure(figsize=(12,9))\n",
        "plt.title(\"browser count plot\")\n",
        "count_plot(\"browser\")"
      ],
      "execution_count": 12,
      "outputs": [
        {
          "output_type": "display_data",
          "data": {
            "image/png": "[encoded data removed]",
            "text/plain": [
              "<Figure size 864x648 with 1 Axes>"
            ]
          },
          "metadata": {
            "tags": [],
            "needs_background": "light"
          }
        }
      ]
    },
    {
      "cell_type": "code",
      "metadata": {
        "colab": {
          "base_uri": "https://localhost:8080/",
          "height": 567
        },
        "id": "8MRyOJMmXS6F",
        "outputId": "28d7d7cd-312d-47e6-8594-58f287d54329"
      },
      "source": [
        "#The plot below shows the portion of users who said \"yes\" per browser.\n",
        "plt.figure(figsize=(12,9))\n",
        "plt.title(\"browser vs yes count\")\n",
        "bar_plot('browser')"
      ],
      "execution_count": 13,
      "outputs": [
        {
          "output_type": "display_data",
          "data": {
            "image/png": "[encoded data removed]",
            "text/plain": [
              "<Figure size 864x648 with 1 Axes>"
            ]
          },
          "metadata": {
            "tags": [],
            "needs_background": "light"
          }
        }
      ]
    },
    {
      "cell_type": "code",
      "metadata": {
        "colab": {
          "base_uri": "https://localhost:8080/",
          "height": 513
        },
        "id": "uTUIN223Xqlk",
        "outputId": "d11330b0-f83d-4847-aea2-bfaef3da2adb"
      },
      "source": [
        "#The plot below shows the portion of users who said \"yes\" per date.\n",
        "plt.figure(figsize=(12,8))\n",
        "plt.title(\"date vs yes count\")\n",
        "bar_plot('date')"
      ],
      "execution_count": 14,
      "outputs": [
        {
          "output_type": "display_data",
          "data": {
            "image/png": "[encoded data removed]",
            "text/plain": [
              "<Figure size 864x576 with 1 Axes>"
            ]
          },
          "metadata": {
            "tags": [],
            "needs_background": "light"
          }
        }
      ]
    },
    {
      "cell_type": "code",
      "metadata": {
        "colab": {
          "base_uri": "https://localhost:8080/",
          "height": 730
        },
        "id": "PuH_GpSxXv-1",
        "outputId": "383a975d-083f-4743-ebcf-8247fec8b050"
      },
      "source": [
        "#The plot below shows the portion of users who said \"yes\" per hour. It looks users responding at 23:00 o'clock, whatever their number, said \"yes\"\n",
        "plt.figure(figsize=(15,12))\n",
        "plt.title(\"hour vs yes count\")\n",
        "bar_plot('hour')"
      ],
      "execution_count": 15,
      "outputs": [
        {
          "output_type": "display_data",
          "data": {
            "image/png": "[encoded data removed]",
            "text/plain": [
              "<Figure size 1080x864 with 1 Axes>"
            ]
          },
          "metadata": {
            "tags": [],
            "needs_background": "light"
          }
        }
      ]
    },
    {
      "cell_type": "code",
      "metadata": {
        "colab": {
          "base_uri": "https://localhost:8080/",
          "height": 404
        },
        "id": "yCyedIxhX33E",
        "outputId": "8c428c10-52fd-43e8-85e5-0897cb9ec493"
      },
      "source": [
        "#In the plot below, we can see that more users in the exposed group said yes than in control group. But we need to rely on the A/B test to confirm this.\n",
        "plt.figure(figsize=(8,6))\n",
        "plt.title(\"experiment vs yes count\")\n",
        "bar_plot('experiment')"
      ],
      "execution_count": 16,
      "outputs": [
        {
          "output_type": "display_data",
          "data": {
            "image/png": "[encoded data removed]",
            "text/plain": [
              "<Figure size 576x432 with 1 Axes>"
            ]
          },
          "metadata": {
            "tags": [],
            "needs_background": "light"
          }
        }
      ]
    },
    {
      "cell_type": "code",
      "metadata": {
        "id": "ASXNcBAOYTiF"
      },
      "source": [
        "#Part 2: Classical A/B testing\n",
        "\n",
        "#Let's carry out classical A/B testing by calculating p-vale using statistical tests\n",
        "\n",
        "#subset of users with id and group only\n"
      ],
      "execution_count": 42,
      "outputs": []
    },
    {
      "cell_type": "code",
      "metadata": {
        "colab": {
          "base_uri": "https://localhost:8080/"
        },
        "id": "xLXR82-t8Y1a",
        "outputId": "68d259ca-a9de-41f4-ee51-3b00b4414a42"
      },
      "source": [
        "#check if we have sufficient sample size\n",
        "ml_data.info()"
      ],
      "execution_count": 31,
      "outputs": [
        {
          "output_type": "stream",
          "text": [
            "<class 'pandas.core.frame.DataFrame'>\n",
            "RangeIndex: 1243 entries, 0 to 1242\n",
            "Data columns (total 7 columns):\n",
            " #   Column       Non-Null Count  Dtype\n",
            "---  ------       --------------  -----\n",
            " 0   experiment   1243 non-null   int64\n",
            " 1   date         1243 non-null   int64\n",
            " 2   hour         1243 non-null   int64\n",
            " 3   device_make  1243 non-null   int64\n",
            " 4   platform_os  1243 non-null   int64\n",
            " 5   browser      1243 non-null   int64\n",
            " 6   yes          1243 non-null   int64\n",
            "dtypes: int64(7)\n",
            "memory usage: 68.1 KB\n"
          ],
          "name": "stdout"
        }
      ]
    },
    {
      "cell_type": "markdown",
      "metadata": {
        "id": "3wTrDi-9wVci"
      },
      "source": [
        "##Classic A/B testing analysis\n",
        "\n",
        "**Null hypothesis**: there is no significant difference in brand awareness between the exposed and control groups in the current case\n",
        "\n",
        "**Alternate hypothesis**: there is a significant difference in brand awareness between the exposed and control groups in the current case\n",
        "with an assumptiono of this two\n",
        "\n",
        "- form the bussiness perspective lets say a 2% brand awarenes increase woul be practically significant.dmin=0.02\n",
        "- and have a confidence level of 95%\n",
        "Ho:d=0 d~N(0,SEpool)\n",
        "If d>1.96SEpool or d<-1.96SEpool Reject the null"
      ]
    },
    {
      "cell_type": "code",
      "metadata": {
        "colab": {
          "base_uri": "https://localhost:8080/"
        },
        "id": "E7_Viw2vvgXz",
        "outputId": "1c3cb9c7-cb6f-471a-d93b-97f400aa27da"
      },
      "source": [
        "Co_df=df.query(\"experiment=='control'\")\n",
        "Co_not_ans_df = df.query(\"yes == 0 & no == 0\")\n",
        "Co_Yes_ans_df=df.query(\"yes == 1\")\n",
        "print(f\"the number of users that did not respond in the control group is {Co_not_ans_df.shape[0]} \")\n",
        "print(f\"the number of users that did  respond yes in the Control group is {Co_Yes_ans_df.shape[0]} \")\n",
        "Xcon=Co_Yes_ans_df.shape[0]\n",
        "print(f\"the percentage of users that did not respond in the control group is {(Co_not_ans_df.shape[0] / Co_df.shape[0]) * 100}% \")"
      ],
      "execution_count": 32,
      "outputs": [
        {
          "output_type": "stream",
          "text": [
            "the number of users that did not respond in the control group is 6834 \n",
            "the number of users that did  respond yes in the Control group is 572 \n",
            "the percentage of users that did not respond in the control group is 167.87030213706706% \n"
          ],
          "name": "stdout"
        }
      ]
    },
    {
      "cell_type": "code",
      "metadata": {
        "colab": {
          "base_uri": "https://localhost:8080/"
        },
        "id": "WWgCOV8mwxlq",
        "outputId": "cd847035-8394-4dec-c91b-381316d0a5a8"
      },
      "source": [
        "Ex_df=df.query(\"experiment=='exposed'\")\n",
        "EX_not_ans_df = df.query(\"yes == 0 & no == 0\")\n",
        "EX_Yes_ans_df=df.query(\"yes == 1\")\n",
        "print(f\"the number of users that did not respond in the exposed group is {EX_not_ans_df.shape[0]} \")\n",
        "print(f\"the number of users that did  respond yes in the exposed group is {EX_Yes_ans_df.shape[0]} \")\n",
        "Xexp=EX_Yes_ans_df.shape[0]\n",
        "print(f\"the percentage of users that did not respond in the exposed grou is {(EX_not_ans_df.shape[0] / Ex_df.shape[0]) * 100}% \")"
      ],
      "execution_count": 33,
      "outputs": [
        {
          "output_type": "stream",
          "text": [
            "the number of users that did not respond in the exposed group is 6834 \n",
            "the number of users that did  respond yes in the exposed group is 572 \n",
            "the percentage of users that did not respond in the exposed grou is 170.59410883674488% \n"
          ],
          "name": "stdout"
        }
      ]
    },
    {
      "cell_type": "code",
      "metadata": {
        "id": "skTQSof9zoN1"
      },
      "source": [
        "#select users who respond on controlled or exposed group \n",
        "RSAd_df = df.query(\"not (yes == 0 & no == 0)\")\n",
        "RSAd_df.shape\n",
        "Npool=RSAd_df.shape[0]"
      ],
      "execution_count": 34,
      "outputs": []
    },
    {
      "cell_type": "code",
      "metadata": {
        "colab": {
          "base_uri": "https://localhost:8080/"
        },
        "id": "J35dVDMQ0tEv",
        "outputId": "7c01bc8f-7609-4056-d332-c9c86980f296"
      },
      "source": [
        "RCo_df=df.query(\"experiment=='control'\")\n",
        "Nco=RCo_df.shape[0]\n",
        "print(f\"the number of users that did  respond  in the Control group is {RCo_df.shape[0]} \")"
      ],
      "execution_count": 35,
      "outputs": [
        {
          "output_type": "stream",
          "text": [
            "the number of users that did  respond  in the Control group is 4071 \n"
          ],
          "name": "stdout"
        }
      ]
    },
    {
      "cell_type": "code",
      "metadata": {
        "colab": {
          "base_uri": "https://localhost:8080/"
        },
        "id": "cjAH7Co01D0j",
        "outputId": "e9c9c25d-25e2-4da9-a704-f0611248fb47"
      },
      "source": [
        "REx_df=df.query(\"experiment=='exposed'\")\n",
        "Nex=REx_df.shape[0]\n",
        "print(f\"the number of users that did  respond  in the Exposed group is {REx_df.shape[0]} \")"
      ],
      "execution_count": 36,
      "outputs": [
        {
          "output_type": "stream",
          "text": [
            "the number of users that did  respond  in the Exposed group is 4006 \n"
          ],
          "name": "stdout"
        }
      ]
    },
    {
      "cell_type": "code",
      "metadata": {
        "colab": {
          "base_uri": "https://localhost:8080/"
        },
        "id": "6s1_io1h1QBE",
        "outputId": "7c7943ae-49be-4e18-f485-a72a8dce031b"
      },
      "source": [
        "Ppool=(Xcon+Xexp)/Npool\n",
        "print(Ppool)"
      ],
      "execution_count": 37,
      "outputs": [
        {
          "output_type": "stream",
          "text": [
            "0.9203539823008849\n"
          ],
          "name": "stdout"
        }
      ]
    },
    {
      "cell_type": "code",
      "metadata": {
        "colab": {
          "base_uri": "https://localhost:8080/"
        },
        "id": "1EGtL9d_1YeP",
        "outputId": "d038bf85-c27f-4fdc-8094-b6936ccfaaf1"
      },
      "source": [
        "import math\n",
        "#Pool standard error\n",
        "SEpool=math.sqrt(Ppool*(1-Ppool)*((1/Nco)+(1/Nex)))\n",
        "print(SEpool)"
      ],
      "execution_count": 38,
      "outputs": [
        {
          "output_type": "stream",
          "text": [
            "0.006025297548891211\n"
          ],
          "name": "stdout"
        }
      ]
    },
    {
      "cell_type": "code",
      "metadata": {
        "colab": {
          "base_uri": "https://localhost:8080/"
        },
        "id": "s2FqFLuo1cZs",
        "outputId": "521f923d-7b1c-46b6-f11d-e75c9e785cff"
      },
      "source": [
        "## diference between Pexp and Pcon\n",
        "d=Xexp/Nex-Xcon/Nco\n",
        "print(d)"
      ],
      "execution_count": 39,
      "outputs": [
        {
          "output_type": "stream",
          "text": [
            "0.002279803090745852\n"
          ],
          "name": "stdout"
        }
      ]
    },
    {
      "cell_type": "code",
      "metadata": {
        "colab": {
          "base_uri": "https://localhost:8080/"
        },
        "id": "N4jMiseF1giM",
        "outputId": "259132bd-4127-4ade-a857-6e52a313dcb9"
      },
      "source": [
        "#margin of error\n",
        "m=1.96*SEpool\n",
        "print(m)"
      ],
      "execution_count": 40,
      "outputs": [
        {
          "output_type": "stream",
          "text": [
            "0.011809583195826773\n"
          ],
          "name": "stdout"
        }
      ]
    },
    {
      "cell_type": "code",
      "metadata": {
        "colab": {
          "base_uri": "https://localhost:8080/"
        },
        "id": "Nz2m2X5z1mGE",
        "outputId": "efdb1e46-1986-4044-c4a1-864fab73f18f"
      },
      "source": [
        "lb=d-m\n",
        "ub=d+m\n",
        "print(lb,ub)"
      ],
      "execution_count": 41,
      "outputs": [
        {
          "output_type": "stream",
          "text": [
            "-0.009529780105080921 0.014089386286572626\n"
          ],
          "name": "stdout"
        }
      ]
    },
    {
      "cell_type": "markdown",
      "metadata": {
        "id": "_-nsKmaD1t-X"
      },
      "source": [
        "**From this output that we can say we dont have enough power to draw a conclusion we need more data to reach a conclusion.**"
      ]
    }
  ]
}