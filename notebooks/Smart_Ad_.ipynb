{
  "nbformat": 4,
  "nbformat_minor": 0,
  "metadata": {
    "colab": {
      "name": "Smart_Ad_.ipynb",
      "provenance": [],
      "collapsed_sections": [],
      "mount_file_id": "1z-DRCOd8yVywcptIWlQHqz_AMcA1LChR",
      "authorship_tag": "ABX9TyMflrgOZ84/LYAEf6AKUVPb",
      "include_colab_link": true
    },
    "kernelspec": {
      "name": "python3",
      "display_name": "Python 3"
    },
    "language_info": {
      "name": "python"
    }
  },
  "cells": [
    {
      "cell_type": "markdown",
      "metadata": {
        "id": "view-in-github",
        "colab_type": "text"
      },
      "source": [
        "<a href=\"https://colab.research.google.com/github/miz-ab/10xac_week_two_challenge/blob/main/notebooks/Smart_Ad_.ipynb\" target=\"_parent\"><img src=\"https://colab.research.google.com/assets/colab-badge.svg\" alt=\"Open In Colab\"/></a>"
      ]
    },
    {
      "cell_type": "code",
      "metadata": {
        "id": "zBPu-zKDLm9y"
      },
      "source": [
        "#import all necessary libraries\n",
        "import pandas as pd\n",
        "import numpy as np\n",
        "import matplotlib.pyplot as plt\n",
        "import scipy.stats as scs\n",
        "import statsmodels.api as sm\n",
        "import seaborn as sns\n",
        "from sklearn import preprocessing \n",
        "from sklearn.preprocessing import scale\n",
        "from scipy.stats import spearmanr\n",
        "from sklearn.preprocessing import MinMaxScaler\n",
        "from sklearn.model_selection import train_test_split\n",
        "from sklearn.linear_model import LogisticRegression\n",
        "from sklearn.tree import DecisionTreeClassifier\n",
        "from sklearn.model_selection import KFold\n",
        "from sklearn.model_selection import cross_val_score\n",
        "from sklearn.metrics import log_loss\n",
        "from sklearn import metrics\n",
        "from matplotlib import rcParams\n",
        "from matplotlib.pyplot import pie, axis, show\n",
        "from scipy.stats import norm\n",
        "import xgboost as xgb\n"
      ],
      "execution_count": 10,
      "outputs": []
    },
    {
      "cell_type": "code",
      "metadata": {
        "colab": {
          "base_uri": "https://localhost:8080/"
        },
        "id": "aBZTvMSVQHGD",
        "outputId": "ebbb7529-cb7b-4c74-a813-fbeb30e6303d"
      },
      "source": [
        "from google.colab import drive\n",
        "drive.mount('/content/drive')"
      ],
      "execution_count": 11,
      "outputs": [
        {
          "output_type": "stream",
          "text": [
            "Drive already mounted at /content/drive; to attempt to forcibly remount, call drive.mount(\"/content/drive\", force_remount=True).\n"
          ],
          "name": "stdout"
        }
      ]
    },
    {
      "cell_type": "code",
      "metadata": {
        "id": "HsuN3eorMMah"
      },
      "source": [
        "pd.set_option('max_column', None)\n",
        "df= pd.read_csv('drive/MyDrive/AdSmartABdata .csv')"
      ],
      "execution_count": 14,
      "outputs": []
    },
    {
      "cell_type": "code",
      "metadata": {
        "colab": {
          "base_uri": "https://localhost:8080/",
          "height": 193
        },
        "id": "UfkeOEKKV4P8",
        "outputId": "32ad52d2-7370-4aa9-d882-5825ddd6dff8"
      },
      "source": [
        "df.head(3)"
      ],
      "execution_count": 15,
      "outputs": [
        {
          "output_type": "execute_result",
          "data": {
            "text/html": [
              "<div>\n",
              "<style scoped>\n",
              "    .dataframe tbody tr th:only-of-type {\n",
              "        vertical-align: middle;\n",
              "    }\n",
              "\n",
              "    .dataframe tbody tr th {\n",
              "        vertical-align: top;\n",
              "    }\n",
              "\n",
              "    .dataframe thead th {\n",
              "        text-align: right;\n",
              "    }\n",
              "</style>\n",
              "<table border=\"1\" class=\"dataframe\">\n",
              "  <thead>\n",
              "    <tr style=\"text-align: right;\">\n",
              "      <th></th>\n",
              "      <th>auction_id</th>\n",
              "      <th>experiment</th>\n",
              "      <th>date</th>\n",
              "      <th>hour</th>\n",
              "      <th>device_make</th>\n",
              "      <th>platform_os</th>\n",
              "      <th>browser</th>\n",
              "      <th>yes</th>\n",
              "      <th>no</th>\n",
              "    </tr>\n",
              "  </thead>\n",
              "  <tbody>\n",
              "    <tr>\n",
              "      <th>0</th>\n",
              "      <td>0008ef63-77a7-448b-bd1e-075f42c55e39</td>\n",
              "      <td>exposed</td>\n",
              "      <td>2020-07-10</td>\n",
              "      <td>8</td>\n",
              "      <td>Generic Smartphone</td>\n",
              "      <td>6</td>\n",
              "      <td>Chrome Mobile</td>\n",
              "      <td>0</td>\n",
              "      <td>0</td>\n",
              "    </tr>\n",
              "    <tr>\n",
              "      <th>1</th>\n",
              "      <td>000eabc5-17ce-4137-8efe-44734d914446</td>\n",
              "      <td>exposed</td>\n",
              "      <td>2020-07-07</td>\n",
              "      <td>10</td>\n",
              "      <td>Generic Smartphone</td>\n",
              "      <td>6</td>\n",
              "      <td>Chrome Mobile</td>\n",
              "      <td>0</td>\n",
              "      <td>0</td>\n",
              "    </tr>\n",
              "    <tr>\n",
              "      <th>2</th>\n",
              "      <td>0016d14a-ae18-4a02-a204-6ba53b52f2ed</td>\n",
              "      <td>exposed</td>\n",
              "      <td>2020-07-05</td>\n",
              "      <td>2</td>\n",
              "      <td>E5823</td>\n",
              "      <td>6</td>\n",
              "      <td>Chrome Mobile WebView</td>\n",
              "      <td>0</td>\n",
              "      <td>1</td>\n",
              "    </tr>\n",
              "  </tbody>\n",
              "</table>\n",
              "</div>"
            ],
            "text/plain": [
              "                             auction_id experiment        date  hour  \\\n",
              "0  0008ef63-77a7-448b-bd1e-075f42c55e39    exposed  2020-07-10     8   \n",
              "1  000eabc5-17ce-4137-8efe-44734d914446    exposed  2020-07-07    10   \n",
              "2  0016d14a-ae18-4a02-a204-6ba53b52f2ed    exposed  2020-07-05     2   \n",
              "\n",
              "          device_make  platform_os                browser  yes  no  \n",
              "0  Generic Smartphone            6          Chrome Mobile    0   0  \n",
              "1  Generic Smartphone            6          Chrome Mobile    0   0  \n",
              "2               E5823            6  Chrome Mobile WebView    0   1  "
            ]
          },
          "metadata": {
            "tags": []
          },
          "execution_count": 15
        }
      ]
    },
    {
      "cell_type": "code",
      "metadata": {
        "colab": {
          "base_uri": "https://localhost:8080/"
        },
        "id": "3YL1H_h2WAhT",
        "outputId": "cc6a1514-119c-4e59-d338-852d37839c03"
      },
      "source": [
        "#filter users who chose \"yes\" or \"no\"\n",
        "responded = df[(df.yes == 1)|(df.no == 1)].reset_index()\n",
        "#drop the index from the original dataset\n",
        "responded.drop('index', axis=1, inplace=True)\n",
        "responded.shape"
      ],
      "execution_count": 16,
      "outputs": [
        {
          "output_type": "execute_result",
          "data": {
            "text/plain": [
              "(1243, 9)"
            ]
          },
          "metadata": {
            "tags": []
          },
          "execution_count": 16
        }
      ]
    },
    {
      "cell_type": "code",
      "metadata": {
        "colab": {
          "base_uri": "https://localhost:8080/"
        },
        "id": "z413EAFaWHwb",
        "outputId": "d7460447-8f8c-4aba-c8f8-f9a996f8605d"
      },
      "source": [
        "#get unique values of each column\n",
        "responded.nunique()"
      ],
      "execution_count": 17,
      "outputs": [
        {
          "output_type": "execute_result",
          "data": {
            "text/plain": [
              "auction_id     1243\n",
              "experiment        2\n",
              "date              8\n",
              "hour             24\n",
              "device_make     115\n",
              "platform_os       2\n",
              "browser           8\n",
              "yes               2\n",
              "no                2\n",
              "dtype: int64"
            ]
          },
          "metadata": {
            "tags": []
          },
          "execution_count": 17
        }
      ]
    },
    {
      "cell_type": "code",
      "metadata": {
        "id": "RUrT_xJCWMQL"
      },
      "source": [
        "def count_plot(variable):\n",
        "    sns.countplot(x=variable, data=responded)\n",
        "    \n",
        "def bar_plot(variable):\n",
        "    sns.barplot(y=variable, x='yes', data=responded, orient='h')"
      ],
      "execution_count": 19,
      "outputs": []
    },
    {
      "cell_type": "code",
      "metadata": {
        "colab": {
          "base_uri": "https://localhost:8080/",
          "height": 264
        },
        "id": "UvlEQhWMWXtr",
        "outputId": "6731dd13-b4b6-41fe-d078-ccd62ce67d8c"
      },
      "source": [
        "sums = responded[\"yes\"].groupby(responded.experiment).sum()\n",
        "plt.title(\"experiment group count\")\n",
        "axis('equal');\n",
        "pie(sums, labels=sums.index);\n",
        "show()"
      ],
      "execution_count": 20,
      "outputs": [
        {
          "output_type": "display_data",
          "data": {
            "image/png": "[encoded data removed]",
            "text/plain": [
              "<Figure size 432x288 with 1 Axes>"
            ]
          },
          "metadata": {
            "tags": []
          }
        }
      ]
    },
    {
      "cell_type": "code",
      "metadata": {
        "colab": {
          "base_uri": "https://localhost:8080/",
          "height": 567
        },
        "id": "e6RPM1PzWa2j",
        "outputId": "eb25c185-9e50-47b4-f06c-5c4000fcd00f"
      },
      "source": [
        "#plot value counts columns\n",
        "plt.figure(figsize=(12,9))\n",
        "plt.title(\"date count plot\")\n",
        "count_plot( \"date\")"
      ],
      "execution_count": 22,
      "outputs": [
        {
          "output_type": "display_data",
          "data": {
            "image/png": "[encoded data removed]",
            "text/plain": [
              "<Figure size 864x648 with 1 Axes>"
            ]
          },
          "metadata": {
            "tags": [],
            "needs_background": "light"
          }
        }
      ]
    },
    {
      "cell_type": "code",
      "metadata": {
        "colab": {
          "base_uri": "https://localhost:8080/",
          "height": 567
        },
        "id": "0G-PmbyZWiYr",
        "outputId": "da4ebb35-2a79-4c1d-91f7-6c9814101cea"
      },
      "source": [
        "plt.figure(figsize=(12,9))\n",
        "plt.title(\"hour count plot\")\n",
        "count_plot( \"hour\")"
      ],
      "execution_count": 24,
      "outputs": [
        {
          "output_type": "display_data",
          "data": {
            "image/png": "[encoded data removed]",
            "text/plain": [
              "<Figure size 864x648 with 1 Axes>"
            ]
          },
          "metadata": {
            "tags": [],
            "needs_background": "light"
          }
        }
      ]
    },
    {
      "cell_type": "code",
      "metadata": {
        "colab": {
          "base_uri": "https://localhost:8080/",
          "height": 536
        },
        "id": "JcMJbbG4WvbT",
        "outputId": "bcff7f3e-8119-4dac-c030-06068793d8f0"
      },
      "source": [
        "plt.figure(figsize=(25,10))\n",
        "plt.title(\"browser count plot\")\n",
        "count_plot(\"browser\")"
      ],
      "execution_count": 25,
      "outputs": [
        {
          "output_type": "display_data",
          "data": {
            "image/png": "[encoded data removed]",
            "text/plain": [
              "<Figure size 1800x720 with 1 Axes>"
            ]
          },
          "metadata": {
            "tags": [],
            "needs_background": "light"
          }
        }
      ]
    }
  ]
}