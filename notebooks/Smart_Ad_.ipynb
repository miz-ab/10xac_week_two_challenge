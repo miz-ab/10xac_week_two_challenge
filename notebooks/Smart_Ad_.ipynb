{
  "nbformat": 4,
  "nbformat_minor": 0,
  "metadata": {
    "colab": {
      "name": "Smart_Ad_.ipynb",
      "provenance": [],
      "collapsed_sections": [],
      "mount_file_id": "1z-DRCOd8yVywcptIWlQHqz_AMcA1LChR",
      "authorship_tag": "ABX9TyOGo14koIo3sXCDeSoipg71",
      "include_colab_link": true
    },
    "kernelspec": {
      "name": "python3",
      "display_name": "Python 3"
    },
    "language_info": {
      "name": "python"
    }
  },
  "cells": [
    {
      "cell_type": "markdown",
      "metadata": {
        "id": "view-in-github",
        "colab_type": "text"
      },
      "source": [
        "<a href=\"https://colab.research.google.com/github/miz-ab/10xac_week_two_challenge/blob/main/notebooks/Smart_Ad_.ipynb\" target=\"_parent\"><img src=\"https://colab.research.google.com/assets/colab-badge.svg\" alt=\"Open In Colab\"/></a>"
      ]
    },
    {
      "cell_type": "code",
      "metadata": {
        "id": "zBPu-zKDLm9y"
      },
      "source": [
        "#import all necessary libraries\n",
        "import pandas as pd\n",
        "import numpy as np\n",
        "import matplotlib.pyplot as plt\n",
        "import scipy.stats as scs\n",
        "import statsmodels.api as sm\n",
        "import seaborn as sns\n",
        "from sklearn import preprocessing \n",
        "from sklearn.preprocessing import scale\n",
        "from scipy.stats import spearmanr\n",
        "from sklearn.preprocessing import MinMaxScaler\n",
        "from sklearn.model_selection import train_test_split\n",
        "from sklearn.linear_model import LogisticRegression\n",
        "from sklearn.tree import DecisionTreeClassifier\n",
        "from sklearn.model_selection import KFold\n",
        "from sklearn.model_selection import cross_val_score\n",
        "from sklearn.metrics import log_loss\n",
        "from sklearn import metrics\n",
        "from matplotlib import rcParams\n",
        "from matplotlib.pyplot import pie, axis, show\n",
        "from scipy.stats import norm\n",
        "import xgboost as xgb\n"
      ],
      "execution_count": 10,
      "outputs": []
    },
    {
      "cell_type": "code",
      "metadata": {
        "colab": {
          "base_uri": "https://localhost:8080/"
        },
        "id": "aBZTvMSVQHGD",
        "outputId": "ebbb7529-cb7b-4c74-a813-fbeb30e6303d"
      },
      "source": [
        "from google.colab import drive\n",
        "drive.mount('/content/drive')"
      ],
      "execution_count": 11,
      "outputs": [
        {
          "output_type": "stream",
          "text": [
            "Drive already mounted at /content/drive; to attempt to forcibly remount, call drive.mount(\"/content/drive\", force_remount=True).\n"
          ],
          "name": "stdout"
        }
      ]
    },
    {
      "cell_type": "code",
      "metadata": {
        "id": "HsuN3eorMMah"
      },
      "source": [
        "pd.set_option('max_column', None)\n",
        "df= pd.read_csv('drive/MyDrive/AdSmartABdata .csv')"
      ],
      "execution_count": 14,
      "outputs": []
    },
    {
      "cell_type": "code",
      "metadata": {
        "colab": {
          "base_uri": "https://localhost:8080/",
          "height": 193
        },
        "id": "UfkeOEKKV4P8",
        "outputId": "32ad52d2-7370-4aa9-d882-5825ddd6dff8"
      },
      "source": [
        "df.head(3)"
      ],
      "execution_count": 15,
      "outputs": [
        {
          "output_type": "execute_result",
          "data": {
            "text/html": [
              "<div>\n",
              "<style scoped>\n",
              "    .dataframe tbody tr th:only-of-type {\n",
              "        vertical-align: middle;\n",
              "    }\n",
              "\n",
              "    .dataframe tbody tr th {\n",
              "        vertical-align: top;\n",
              "    }\n",
              "\n",
              "    .dataframe thead th {\n",
              "        text-align: right;\n",
              "    }\n",
              "</style>\n",
              "<table border=\"1\" class=\"dataframe\">\n",
              "  <thead>\n",
              "    <tr style=\"text-align: right;\">\n",
              "      <th></th>\n",
              "      <th>auction_id</th>\n",
              "      <th>experiment</th>\n",
              "      <th>date</th>\n",
              "      <th>hour</th>\n",
              "      <th>device_make</th>\n",
              "      <th>platform_os</th>\n",
              "      <th>browser</th>\n",
              "      <th>yes</th>\n",
              "      <th>no</th>\n",
              "    </tr>\n",
              "  </thead>\n",
              "  <tbody>\n",
              "    <tr>\n",
              "      <th>0</th>\n",
              "      <td>0008ef63-77a7-448b-bd1e-075f42c55e39</td>\n",
              "      <td>exposed</td>\n",
              "      <td>2020-07-10</td>\n",
              "      <td>8</td>\n",
              "      <td>Generic Smartphone</td>\n",
              "      <td>6</td>\n",
              "      <td>Chrome Mobile</td>\n",
              "      <td>0</td>\n",
              "      <td>0</td>\n",
              "    </tr>\n",
              "    <tr>\n",
              "      <th>1</th>\n",
              "      <td>000eabc5-17ce-4137-8efe-44734d914446</td>\n",
              "      <td>exposed</td>\n",
              "      <td>2020-07-07</td>\n",
              "      <td>10</td>\n",
              "      <td>Generic Smartphone</td>\n",
              "      <td>6</td>\n",
              "      <td>Chrome Mobile</td>\n",
              "      <td>0</td>\n",
              "      <td>0</td>\n",
              "    </tr>\n",
              "    <tr>\n",
              "      <th>2</th>\n",
              "      <td>0016d14a-ae18-4a02-a204-6ba53b52f2ed</td>\n",
              "      <td>exposed</td>\n",
              "      <td>2020-07-05</td>\n",
              "      <td>2</td>\n",
              "      <td>E5823</td>\n",
              "      <td>6</td>\n",
              "      <td>Chrome Mobile WebView</td>\n",
              "      <td>0</td>\n",
              "      <td>1</td>\n",
              "    </tr>\n",
              "  </tbody>\n",
              "</table>\n",
              "</div>"
            ],
            "text/plain": [
              "                             auction_id experiment        date  hour  \\\n",
              "0  0008ef63-77a7-448b-bd1e-075f42c55e39    exposed  2020-07-10     8   \n",
              "1  000eabc5-17ce-4137-8efe-44734d914446    exposed  2020-07-07    10   \n",
              "2  0016d14a-ae18-4a02-a204-6ba53b52f2ed    exposed  2020-07-05     2   \n",
              "\n",
              "          device_make  platform_os                browser  yes  no  \n",
              "0  Generic Smartphone            6          Chrome Mobile    0   0  \n",
              "1  Generic Smartphone            6          Chrome Mobile    0   0  \n",
              "2               E5823            6  Chrome Mobile WebView    0   1  "
            ]
          },
          "metadata": {
            "tags": []
          },
          "execution_count": 15
        }
      ]
    },
    {
      "cell_type": "code",
      "metadata": {
        "colab": {
          "base_uri": "https://localhost:8080/"
        },
        "id": "3YL1H_h2WAhT",
        "outputId": "cc6a1514-119c-4e59-d338-852d37839c03"
      },
      "source": [
        "#filter users who chose \"yes\" or \"no\"\n",
        "responded = df[(df.yes == 1)|(df.no == 1)].reset_index()\n",
        "#drop the index from the original dataset\n",
        "responded.drop('index', axis=1, inplace=True)\n",
        "responded.shape"
      ],
      "execution_count": 16,
      "outputs": [
        {
          "output_type": "execute_result",
          "data": {
            "text/plain": [
              "(1243, 9)"
            ]
          },
          "metadata": {
            "tags": []
          },
          "execution_count": 16
        }
      ]
    },
    {
      "cell_type": "code",
      "metadata": {
        "colab": {
          "base_uri": "https://localhost:8080/"
        },
        "id": "z413EAFaWHwb",
        "outputId": "d7460447-8f8c-4aba-c8f8-f9a996f8605d"
      },
      "source": [
        "#get unique values of each column\n",
        "responded.nunique()"
      ],
      "execution_count": 17,
      "outputs": [
        {
          "output_type": "execute_result",
          "data": {
            "text/plain": [
              "auction_id     1243\n",
              "experiment        2\n",
              "date              8\n",
              "hour             24\n",
              "device_make     115\n",
              "platform_os       2\n",
              "browser           8\n",
              "yes               2\n",
              "no                2\n",
              "dtype: int64"
            ]
          },
          "metadata": {
            "tags": []
          },
          "execution_count": 17
        }
      ]
    },
    {
      "cell_type": "code",
      "metadata": {
        "id": "RUrT_xJCWMQL"
      },
      "source": [
        "def count_plot(variable):\n",
        "    sns.countplot(x=variable, data=responded)\n",
        "    \n",
        "def bar_plot(variable):\n",
        "    sns.barplot(y=variable, x='yes', data=responded, orient='h')"
      ],
      "execution_count": 19,
      "outputs": []
    },
    {
      "cell_type": "code",
      "metadata": {
        "colab": {
          "base_uri": "https://localhost:8080/",
          "height": 264
        },
        "id": "UvlEQhWMWXtr",
        "outputId": "6731dd13-b4b6-41fe-d078-ccd62ce67d8c"
      },
      "source": [
        "sums = responded[\"yes\"].groupby(responded.experiment).sum()\n",
        "plt.title(\"experiment group count\")\n",
        "axis('equal');\n",
        "pie(sums, labels=sums.index);\n",
        "show()"
      ],
      "execution_count": 20,
      "outputs": [
        {
          "output_type": "display_data",
          "data": {
            "image/png": "[encoded data removed]",
            "text/plain": [
              "<Figure size 432x288 with 1 Axes>"
            ]
          },
          "metadata": {
            "tags": []
          }
        }
      ]
    },
    {
      "cell_type": "code",
      "metadata": {
        "colab": {
          "base_uri": "https://localhost:8080/",
          "height": 567
        },
        "id": "e6RPM1PzWa2j",
        "outputId": "eb25c185-9e50-47b4-f06c-5c4000fcd00f"
      },
      "source": [
        "#plot value counts columns\n",
        "plt.figure(figsize=(12,9))\n",
        "plt.title(\"date count plot\")\n",
        "count_plot( \"date\")"
      ],
      "execution_count": 22,
      "outputs": [
        {
          "output_type": "display_data",
          "data": {
            "image/png": "[encoded data removed]",
            "text/plain": [
              "<Figure size 864x648 with 1 Axes>"
            ]
          },
          "metadata": {
            "tags": [],
            "needs_background": "light"
          }
        }
      ]
    },
    {
      "cell_type": "code",
      "metadata": {
        "colab": {
          "base_uri": "https://localhost:8080/",
          "height": 567
        },
        "id": "0G-PmbyZWiYr",
        "outputId": "da4ebb35-2a79-4c1d-91f7-6c9814101cea"
      },
      "source": [
        "plt.figure(figsize=(12,9))\n",
        "plt.title(\"hour count plot\")\n",
        "count_plot( \"hour\")"
      ],
      "execution_count": 24,
      "outputs": [
        {
          "output_type": "display_data",
          "data": {
            "image/png": "[encoded data removed]",
            "text/plain": [
              "<Figure size 864x648 with 1 Axes>"
            ]
          },
          "metadata": {
            "tags": [],
            "needs_background": "light"
          }
        }
      ]
    },
    {
      "cell_type": "code",
      "metadata": {
        "colab": {
          "base_uri": "https://localhost:8080/",
          "height": 567
        },
        "id": "JcMJbbG4WvbT",
        "outputId": "7bffd7a8-423e-4c2d-f3b0-db2f970cab97"
      },
      "source": [
        "plt.figure(figsize=(12,9))\n",
        "plt.title(\"browser count plot\")\n",
        "count_plot(\"browser\")"
      ],
      "execution_count": 26,
      "outputs": [
        {
          "output_type": "display_data",
          "data": {
            "image/png": "[encoded data removed]",
            "text/plain": [
              "<Figure size 864x648 with 1 Axes>"
            ]
          },
          "metadata": {
            "tags": [],
            "needs_background": "light"
          }
        }
      ]
    },
    {
      "cell_type": "code",
      "metadata": {
        "colab": {
          "base_uri": "https://localhost:8080/",
          "height": 567
        },
        "id": "8MRyOJMmXS6F",
        "outputId": "c688deb8-207f-4d6f-f4e5-b24b9ddd08b9"
      },
      "source": [
        "#The plot below shows the portion of users who said \"yes\" per browser.\n",
        "plt.figure(figsize=(12,9))\n",
        "plt.title(\"browser vs yes count\")\n",
        "bar_plot('browser')"
      ],
      "execution_count": 28,
      "outputs": [
        {
          "output_type": "display_data",
          "data": {
            "image/png": "[encoded data removed]",
            "text/plain": [
              "<Figure size 864x648 with 1 Axes>"
            ]
          },
          "metadata": {
            "tags": [],
            "needs_background": "light"
          }
        }
      ]
    },
    {
      "cell_type": "code",
      "metadata": {
        "colab": {
          "base_uri": "https://localhost:8080/",
          "height": 513
        },
        "id": "uTUIN223Xqlk",
        "outputId": "a6bce456-2967-4050-dcef-41c02a3700c6"
      },
      "source": [
        "#The plot below shows the portion of users who said \"yes\" per date.\n",
        "plt.figure(figsize=(12,8))\n",
        "plt.title(\"date vs yes count\")\n",
        "bar_plot('date')"
      ],
      "execution_count": 29,
      "outputs": [
        {
          "output_type": "display_data",
          "data": {
            "image/png": "[encoded data removed]",
            "text/plain": [
              "<Figure size 864x576 with 1 Axes>"
            ]
          },
          "metadata": {
            "tags": [],
            "needs_background": "light"
          }
        }
      ]
    },
    {
      "cell_type": "code",
      "metadata": {
        "colab": {
          "base_uri": "https://localhost:8080/",
          "height": 730
        },
        "id": "PuH_GpSxXv-1",
        "outputId": "79401d63-d562-49bd-a10d-ac2f156e42f9"
      },
      "source": [
        "#The plot below shows the portion of users who said \"yes\" per hour. It looks users responding at 23:00 o'clock, whatever their number, said \"yes\"\n",
        "plt.figure(figsize=(15,12))\n",
        "plt.title(\"hour vs yes count\")\n",
        "bar_plot('hour')"
      ],
      "execution_count": 30,
      "outputs": [
        {
          "output_type": "display_data",
          "data": {
            "image/png": "[encoded data removed]",
            "text/plain": [
              "<Figure size 1080x864 with 1 Axes>"
            ]
          },
          "metadata": {
            "tags": [],
            "needs_background": "light"
          }
        }
      ]
    },
    {
      "cell_type": "code",
      "metadata": {
        "colab": {
          "base_uri": "https://localhost:8080/",
          "height": 404
        },
        "id": "yCyedIxhX33E",
        "outputId": "94a28c12-c29a-4062-81fb-618665ad0630"
      },
      "source": [
        "#In the plot below, we can see that more users in the exposed group said yes than in control group. But we need to rely on the A/B test to confirm this.\n",
        "plt.figure(figsize=(8,6))\n",
        "plt.title(\"experiment vs yes count\")\n",
        "bar_plot('experiment')"
      ],
      "execution_count": 31,
      "outputs": [
        {
          "output_type": "display_data",
          "data": {
            "image/png": "[encoded data removed]",
            "text/plain": [
              "<Figure size 576x432 with 1 Axes>"
            ]
          },
          "metadata": {
            "tags": [],
            "needs_background": "light"
          }
        }
      ]
    },
    {
      "cell_type": "code",
      "metadata": {
        "colab": {
          "base_uri": "https://localhost:8080/",
          "height": 173
        },
        "id": "ASXNcBAOYTiF",
        "outputId": "466c7af8-d079-48aa-f069-4ea248163c56"
      },
      "source": [
        "#Part 2: Classical A/B testing\n",
        "\n",
        "#Let's carry out classical A/B testing by calculating p-vale using statistical tests\n",
        "\n",
        "#subset of users with id and group only\n",
        "users = pd.DataFrame(data = responded[[\"auction_id\", \"experiment\"]])\n",
        "#add a column for the response\n",
        "users[\"converted\"] = responded.yes\n",
        "users.head(4)"
      ],
      "execution_count": 33,
      "outputs": [
        {
          "output_type": "execute_result",
          "data": {
            "text/html": [
              "<div>\n",
              "<style scoped>\n",
              "    .dataframe tbody tr th:only-of-type {\n",
              "        vertical-align: middle;\n",
              "    }\n",
              "\n",
              "    .dataframe tbody tr th {\n",
              "        vertical-align: top;\n",
              "    }\n",
              "\n",
              "    .dataframe thead th {\n",
              "        text-align: right;\n",
              "    }\n",
              "</style>\n",
              "<table border=\"1\" class=\"dataframe\">\n",
              "  <thead>\n",
              "    <tr style=\"text-align: right;\">\n",
              "      <th></th>\n",
              "      <th>auction_id</th>\n",
              "      <th>experiment</th>\n",
              "      <th>converted</th>\n",
              "    </tr>\n",
              "  </thead>\n",
              "  <tbody>\n",
              "    <tr>\n",
              "      <th>0</th>\n",
              "      <td>0016d14a-ae18-4a02-a204-6ba53b52f2ed</td>\n",
              "      <td>exposed</td>\n",
              "      <td>0</td>\n",
              "    </tr>\n",
              "    <tr>\n",
              "      <th>1</th>\n",
              "      <td>008aafdf-deef-4482-8fec-d98e3da054da</td>\n",
              "      <td>exposed</td>\n",
              "      <td>1</td>\n",
              "    </tr>\n",
              "    <tr>\n",
              "      <th>2</th>\n",
              "      <td>00a1384a-5118-4d1b-925b-6cdada50318d</td>\n",
              "      <td>exposed</td>\n",
              "      <td>0</td>\n",
              "    </tr>\n",
              "    <tr>\n",
              "      <th>3</th>\n",
              "      <td>00b6fadb-10bd-49e3-a778-290da82f7a8d</td>\n",
              "      <td>control</td>\n",
              "      <td>1</td>\n",
              "    </tr>\n",
              "  </tbody>\n",
              "</table>\n",
              "</div>"
            ],
            "text/plain": [
              "                             auction_id experiment  converted\n",
              "0  0016d14a-ae18-4a02-a204-6ba53b52f2ed    exposed          0\n",
              "1  008aafdf-deef-4482-8fec-d98e3da054da    exposed          1\n",
              "2  00a1384a-5118-4d1b-925b-6cdada50318d    exposed          0\n",
              "3  00b6fadb-10bd-49e3-a778-290da82f7a8d    control          1"
            ]
          },
          "metadata": {
            "tags": []
          },
          "execution_count": 33
        }
      ]
    },
    {
      "cell_type": "code",
      "metadata": {
        "id": "6P4vKfpaYaWc"
      },
      "source": [
        "#separate the control and exposed groups\n",
        "exposed = users[users.experiment == 'exposed']\n",
        "control = users[users.experiment == 'control']"
      ],
      "execution_count": 34,
      "outputs": []
    },
    {
      "cell_type": "code",
      "metadata": {
        "colab": {
          "base_uri": "https://localhost:8080/",
          "height": 142
        },
        "id": "S5XsTQ3eYnoc",
        "outputId": "a5c326b1-25d8-4016-e70d-0a5243d655b5"
      },
      "source": [
        "#pivot table to get the sum of converted users in each group\n",
        "summary = users.pivot_table(values='converted', index='experiment', aggfunc=np.sum)\n",
        "# add additional columns to the pivot table\n",
        "summary['total'] = users.pivot_table(values='converted', index='experiment', aggfunc=lambda x: len(x))\n",
        "summary['rate'] = users.pivot_table(values='converted', index='experiment')\n",
        "summary"
      ],
      "execution_count": 35,
      "outputs": [
        {
          "output_type": "execute_result",
          "data": {
            "text/html": [
              "<div>\n",
              "<style scoped>\n",
              "    .dataframe tbody tr th:only-of-type {\n",
              "        vertical-align: middle;\n",
              "    }\n",
              "\n",
              "    .dataframe tbody tr th {\n",
              "        vertical-align: top;\n",
              "    }\n",
              "\n",
              "    .dataframe thead th {\n",
              "        text-align: right;\n",
              "    }\n",
              "</style>\n",
              "<table border=\"1\" class=\"dataframe\">\n",
              "  <thead>\n",
              "    <tr style=\"text-align: right;\">\n",
              "      <th></th>\n",
              "      <th>converted</th>\n",
              "      <th>total</th>\n",
              "      <th>rate</th>\n",
              "    </tr>\n",
              "    <tr>\n",
              "      <th>experiment</th>\n",
              "      <th></th>\n",
              "      <th></th>\n",
              "      <th></th>\n",
              "    </tr>\n",
              "  </thead>\n",
              "  <tbody>\n",
              "    <tr>\n",
              "      <th>control</th>\n",
              "      <td>264</td>\n",
              "      <td>586</td>\n",
              "      <td>0.450512</td>\n",
              "    </tr>\n",
              "    <tr>\n",
              "      <th>exposed</th>\n",
              "      <td>308</td>\n",
              "      <td>657</td>\n",
              "      <td>0.468798</td>\n",
              "    </tr>\n",
              "  </tbody>\n",
              "</table>\n",
              "</div>"
            ],
            "text/plain": [
              "            converted  total      rate\n",
              "experiment                            \n",
              "control           264    586  0.450512\n",
              "exposed           308    657  0.468798"
            ]
          },
          "metadata": {
            "tags": []
          },
          "execution_count": 35
        }
      ]
    },
    {
      "cell_type": "code",
      "metadata": {
        "colab": {
          "base_uri": "https://localhost:8080/"
        },
        "id": "FF_qKA3BYywN",
        "outputId": "d8118405-a023-4840-d073-efb7cd50c8e6"
      },
      "source": [
        "control_converted = summary['converted'][0]\n",
        "control_total = summary['total'][0]\n",
        "control_rate = summary['rate'][0]\n",
        "\n",
        "exposed_converted = summary['converted'][1]\n",
        "exposed_total = summary['total'][1]\n",
        "exposed_rate = summary['rate'][1]\n",
        "\n",
        "rate_difference = exposed_rate-control_rate\n",
        "rate_difference"
      ],
      "execution_count": 36,
      "outputs": [
        {
          "output_type": "execute_result",
          "data": {
            "text/plain": [
              "0.018285619295484168"
            ]
          },
          "metadata": {
            "tags": []
          },
          "execution_count": 36
        }
      ]
    },
    {
      "cell_type": "code",
      "metadata": {
        "colab": {
          "base_uri": "https://localhost:8080/",
          "height": 405
        },
        "id": "sRO7pjiEY9nd",
        "outputId": "69d9e2ca-5ea7-467f-9206-20fba0d7bc6e"
      },
      "source": [
        "\n",
        "fig, ax = plt.subplots(figsize=(12,6))\n",
        "x = np.linspace(summary.iloc[0,0]-49, summary.iloc[0,0]+50, 100)\n",
        "y = scs.binom(control_total, control_rate).pmf(x)\n",
        "ax.bar(x, y, alpha=0.5)\n",
        "ax.axvline(x=exposed_rate*580 , c='green', alpha=0.75, linestyle='--')\n",
        "#ax.axvline(x=exposed_rate*A_total, c='blue', alpha=0.75, linestyle='--')\n",
        "plt.xlabel('converted')\n",
        "plt.ylabel('probability')"
      ],
      "execution_count": 37,
      "outputs": [
        {
          "output_type": "execute_result",
          "data": {
            "text/plain": [
              "Text(0, 0.5, 'probability')"
            ]
          },
          "metadata": {
            "tags": []
          },
          "execution_count": 37
        },
        {
          "output_type": "display_data",
          "data": {
            "image/png": "[encoded data removed]",
            "text/plain": [
              "<Figure size 864x432 with 1 Axes>"
            ]
          },
          "metadata": {
            "tags": [],
            "needs_background": "light"
          }
        }
      ]
    },
    {
      "cell_type": "code",
      "metadata": {
        "colab": {
          "base_uri": "https://localhost:8080/",
          "height": 405
        },
        "id": "E1Iu-vFOZRxW",
        "outputId": "c3bc3454-49c6-4286-8cfc-d8579f84f8ee"
      },
      "source": [
        "fig, ax = plt.subplots(figsize=(12,6))\n",
        "\n",
        "xC = np.linspace(control_converted-49, control_converted+50, 100)\n",
        "yC = scs.binom(control_total, control_rate).pmf(xC)\n",
        "ax.bar(xC, yC, label = \"Control\",alpha=0.5)\n",
        "\n",
        "xE = np.linspace(exposed_converted-49, exposed_converted+50, 100)\n",
        "yE = scs.binom(exposed_total, exposed_rate).pmf(xE)\n",
        "ax.bar(xE, yE, label = \"Exposed\",alpha=0.5)\n",
        "plt.legend()\n",
        "plt.xlabel('converted')\n",
        "plt.ylabel('probability')"
      ],
      "execution_count": 38,
      "outputs": [
        {
          "output_type": "execute_result",
          "data": {
            "text/plain": [
              "Text(0, 0.5, 'probability')"
            ]
          },
          "metadata": {
            "tags": []
          },
          "execution_count": 38
        },
        {
          "output_type": "display_data",
          "data": {
            "image/png": "[encoded data removed]",
            "text/plain": [
              "<Figure size 864x432 with 1 Axes>"
            ]
          },
          "metadata": {
            "tags": [],
            "needs_background": "light"
          }
        }
      ]
    },
    {
      "cell_type": "code",
      "metadata": {
        "colab": {
          "base_uri": "https://localhost:8080/"
        },
        "id": "xmpFwnLYZ6Tf",
        "outputId": "c19a3fe6-fdc1-41ed-ed81-ec20459b7e21"
      },
      "source": [
        "def get_confidence_ab_test(a_c, num_a, b_c, num_b):\n",
        "    a_cr = a_c / num_a\n",
        "    b_cr = b_c / num_b\n",
        "    std_a = np.sqrt(a_cr * (1 - a_cr) / num_a)\n",
        "    std_b = np.sqrt(b_cr * (1 - b_cr) / num_b)\n",
        "    z_score = (b_cr - a_cr) / np.sqrt(std_a**2 + std_b**2)\n",
        "    return norm.cdf(z_score)\n",
        "\n",
        "print(get_confidence_ab_test(control_converted, control_total, exposed_converted, exposed_total))"
      ],
      "execution_count": 40,
      "outputs": [
        {
          "output_type": "stream",
          "text": [
            "0.7408273254172715\n"
          ],
          "name": "stdout"
        }
      ]
    },
    {
      "cell_type": "code",
      "metadata": {
        "colab": {
          "base_uri": "https://localhost:8080/"
        },
        "id": "7VNlYkYeaoS1",
        "outputId": "ddabaf43-0e79-4dc8-cdba-7147c69232ff"
      },
      "source": [
        "def get_p_value(a_c, num_a, b_c, num_b):\n",
        "    a_cr = a_c / num_a\n",
        "    b_cr = b_c / num_b\n",
        "    std_a = np.sqrt(a_cr * (1 - a_cr) / num_a)\n",
        "    std_b = np.sqrt(b_cr * (1 - b_cr) / num_b)\n",
        "    z_score = (b_cr - a_cr) / np.sqrt(std_a**2 + std_b**2)\n",
        "    return norm.sf(z_score)\n",
        "\n",
        "print(get_p_value(control_converted, control_total, exposed_converted, exposed_total))"
      ],
      "execution_count": 41,
      "outputs": [
        {
          "output_type": "stream",
          "text": [
            "0.2591726745827285\n"
          ],
          "name": "stdout"
        }
      ]
    },
    {
      "cell_type": "code",
      "metadata": {
        "colab": {
          "base_uri": "https://localhost:8080/"
        },
        "id": "q9hkHx8vasZ1",
        "outputId": "22a013f3-3ca2-47bf-ecac-4d981363d12d"
      },
      "source": [
        "a_dist = np.zeros(control_total)\n",
        "a_dist[:control_converted] = 1\n",
        "b_dist = np.zeros(exposed_total)\n",
        "b_dist[:exposed_converted] = 1\n",
        "zscore, prob = scs.ttest_ind(a_dist, b_dist, equal_var=True)\n",
        "print(f\"Zscore is {zscore:0.2f}, p-value is {prob:0.3f} (two tailed), {prob/2:0.3f} (one tailed)\")"
      ],
      "execution_count": 44,
      "outputs": [
        {
          "output_type": "stream",
          "text": [
            "Zscore is -0.65, p-value is 0.519 (two tailed), 0.259 (one tailed)\n"
          ],
          "name": "stdout"
        }
      ]
    },
    {
      "cell_type": "code",
      "metadata": {
        "colab": {
          "base_uri": "https://localhost:8080/"
        },
        "id": "Cf5vT7Ch7amh",
        "outputId": "106b16ea-b399-41a7-b0af-62b3034e6b7c"
      },
      "source": [
        "sm.stats.ztest(b_dist,a_dist,alternative=\"larger\")"
      ],
      "execution_count": 45,
      "outputs": [
        {
          "output_type": "execute_result",
          "data": {
            "text/plain": [
              "(0.6452687398426953, 0.2593765234051756)"
            ]
          },
          "metadata": {
            "tags": []
          },
          "execution_count": 45
        }
      ]
    },
    {
      "cell_type": "code",
      "metadata": {
        "id": "Gqf15rgl7gew"
      },
      "source": [
        "#a code to calculate sample size (borrowed from github)\n",
        "def min_sample_size(control_rate, rate_difference, power=0.8, sig_level=0.05):\n",
        "    \"\"\"Returns the minimum sample size to set up a split test\n",
        "    Arguments:\n",
        "        control_rate (float): probability of success for control, sometimes\n",
        "        referred to as baseline conversion rate\n",
        "        rate_difference (float): minimum change in measurement between control\n",
        "        group and test group if alternative hypothesis is true, sometimes\n",
        "        referred to as minimum detectable effect\n",
        "        power (float): probability of rejecting the null hypothesis when the\n",
        "        null hypothesis is false, typically 0.8\n",
        "        sig_level (float): significance level often denoted as alpha,\n",
        "        typically 0.05\n",
        "    Returns:\n",
        "        min_N: minimum sample size (float)\n",
        "    References:\n",
        "        Stanford lecture on sample sizes\n",
        "        http://statweb.stanford.edu/~susan/courses/s141/hopower.pdf\n",
        "    \"\"\"\n",
        "    # standard normal distribution to determine z-values\n",
        "    standard_norm = scs.norm(0, 1)\n",
        "\n",
        "    # find Z_beta from desired power\n",
        "    Z_beta = standard_norm.ppf(power)\n",
        "\n",
        "    # find Z_alpha\n",
        "    Z_alpha = standard_norm.ppf(1-sig_level/2)\n",
        "\n",
        "    # average of probabilities from both groups\n",
        "    pooled_prob = (control_rate + control_rate+rate_difference) / 2\n",
        "\n",
        "    min_N = (2 * pooled_prob * (1 - pooled_prob) * (Z_beta + Z_alpha)**2\n",
        "             / rate_difference**2)\n",
        "\n",
        "    return min_N"
      ],
      "execution_count": 46,
      "outputs": []
    },
    {
      "cell_type": "code",
      "metadata": {
        "colab": {
          "base_uri": "https://localhost:8080/"
        },
        "id": "CogBVUyF75Hw",
        "outputId": "9e053dd6-26ec-4db2-920b-6eeef4c8f2ec"
      },
      "source": [
        "#use the above function to calculate the minimum sample size\n",
        "min_sample_size(control_rate,rate_difference)"
      ],
      "execution_count": 47,
      "outputs": [
        {
          "output_type": "execute_result",
          "data": {
            "text/plain": [
              "11660.61386940473"
            ]
          },
          "metadata": {
            "tags": []
          },
          "execution_count": 47
        }
      ]
    },
    {
      "cell_type": "code",
      "metadata": {
        "id": "pKlxH24N8Asf"
      },
      "source": [
        "#slice the data removing \"auction_id\" and \"no\" columns\n",
        "ml_data = responded.iloc[:,1:-1]"
      ],
      "execution_count": 48,
      "outputs": []
    },
    {
      "cell_type": "code",
      "metadata": {
        "colab": {
          "base_uri": "https://localhost:8080/",
          "height": 419
        },
        "id": "-JiSKK8t8ETv",
        "outputId": "63b3bcce-8dae-41f2-f1fb-929541d73811"
      },
      "source": [
        "# LabelEncoder encodes categorical values into numeric. \n",
        "encoder = preprocessing.LabelEncoder() \n",
        "\n",
        "# Encode all columns. \n",
        "ml_data['experiment']= encoder.fit_transform(ml_data['experiment'])\n",
        "ml_data['date']= encoder.fit_transform(ml_data['date'])\n",
        "ml_data['hour']= encoder.fit_transform(ml_data['hour'])\n",
        "ml_data['device_make']= encoder.fit_transform(ml_data['device_make'])\n",
        "ml_data['browser']= encoder.fit_transform(ml_data['browser'])\n",
        "ml_data"
      ],
      "execution_count": 49,
      "outputs": [
        {
          "output_type": "execute_result",
          "data": {
            "text/html": [
              "<div>\n",
              "<style scoped>\n",
              "    .dataframe tbody tr th:only-of-type {\n",
              "        vertical-align: middle;\n",
              "    }\n",
              "\n",
              "    .dataframe tbody tr th {\n",
              "        vertical-align: top;\n",
              "    }\n",
              "\n",
              "    .dataframe thead th {\n",
              "        text-align: right;\n",
              "    }\n",
              "</style>\n",
              "<table border=\"1\" class=\"dataframe\">\n",
              "  <thead>\n",
              "    <tr style=\"text-align: right;\">\n",
              "      <th></th>\n",
              "      <th>experiment</th>\n",
              "      <th>date</th>\n",
              "      <th>hour</th>\n",
              "      <th>device_make</th>\n",
              "      <th>platform_os</th>\n",
              "      <th>browser</th>\n",
              "      <th>yes</th>\n",
              "    </tr>\n",
              "  </thead>\n",
              "  <tbody>\n",
              "    <tr>\n",
              "      <th>0</th>\n",
              "      <td>1</td>\n",
              "      <td>2</td>\n",
              "      <td>2</td>\n",
              "      <td>4</td>\n",
              "      <td>6</td>\n",
              "      <td>2</td>\n",
              "      <td>0</td>\n",
              "    </tr>\n",
              "    <tr>\n",
              "      <th>1</th>\n",
              "      <td>1</td>\n",
              "      <td>1</td>\n",
              "      <td>16</td>\n",
              "      <td>13</td>\n",
              "      <td>6</td>\n",
              "      <td>1</td>\n",
              "      <td>1</td>\n",
              "    </tr>\n",
              "    <tr>\n",
              "      <th>2</th>\n",
              "      <td>1</td>\n",
              "      <td>3</td>\n",
              "      <td>8</td>\n",
              "      <td>13</td>\n",
              "      <td>6</td>\n",
              "      <td>1</td>\n",
              "      <td>0</td>\n",
              "    </tr>\n",
              "    <tr>\n",
              "      <th>3</th>\n",
              "      <td>0</td>\n",
              "      <td>5</td>\n",
              "      <td>4</td>\n",
              "      <td>43</td>\n",
              "      <td>6</td>\n",
              "      <td>4</td>\n",
              "      <td>1</td>\n",
              "    </tr>\n",
              "    <tr>\n",
              "      <th>4</th>\n",
              "      <td>0</td>\n",
              "      <td>0</td>\n",
              "      <td>15</td>\n",
              "      <td>13</td>\n",
              "      <td>6</td>\n",
              "      <td>1</td>\n",
              "      <td>0</td>\n",
              "    </tr>\n",
              "    <tr>\n",
              "      <th>...</th>\n",
              "      <td>...</td>\n",
              "      <td>...</td>\n",
              "      <td>...</td>\n",
              "      <td>...</td>\n",
              "      <td>...</td>\n",
              "      <td>...</td>\n",
              "      <td>...</td>\n",
              "    </tr>\n",
              "    <tr>\n",
              "      <th>1238</th>\n",
              "      <td>1</td>\n",
              "      <td>2</td>\n",
              "      <td>21</td>\n",
              "      <td>13</td>\n",
              "      <td>6</td>\n",
              "      <td>1</td>\n",
              "      <td>1</td>\n",
              "    </tr>\n",
              "    <tr>\n",
              "      <th>1239</th>\n",
              "      <td>1</td>\n",
              "      <td>1</td>\n",
              "      <td>1</td>\n",
              "      <td>13</td>\n",
              "      <td>6</td>\n",
              "      <td>1</td>\n",
              "      <td>1</td>\n",
              "    </tr>\n",
              "    <tr>\n",
              "      <th>1240</th>\n",
              "      <td>0</td>\n",
              "      <td>6</td>\n",
              "      <td>7</td>\n",
              "      <td>13</td>\n",
              "      <td>6</td>\n",
              "      <td>1</td>\n",
              "      <td>0</td>\n",
              "    </tr>\n",
              "    <tr>\n",
              "      <th>1241</th>\n",
              "      <td>0</td>\n",
              "      <td>7</td>\n",
              "      <td>16</td>\n",
              "      <td>13</td>\n",
              "      <td>6</td>\n",
              "      <td>1</td>\n",
              "      <td>0</td>\n",
              "    </tr>\n",
              "    <tr>\n",
              "      <th>1242</th>\n",
              "      <td>1</td>\n",
              "      <td>0</td>\n",
              "      <td>4</td>\n",
              "      <td>13</td>\n",
              "      <td>6</td>\n",
              "      <td>1</td>\n",
              "      <td>0</td>\n",
              "    </tr>\n",
              "  </tbody>\n",
              "</table>\n",
              "<p>1243 rows × 7 columns</p>\n",
              "</div>"
            ],
            "text/plain": [
              "      experiment  date  hour  device_make  platform_os  browser  yes\n",
              "0              1     2     2            4            6        2    0\n",
              "1              1     1    16           13            6        1    1\n",
              "2              1     3     8           13            6        1    0\n",
              "3              0     5     4           43            6        4    1\n",
              "4              0     0    15           13            6        1    0\n",
              "...          ...   ...   ...          ...          ...      ...  ...\n",
              "1238           1     2    21           13            6        1    1\n",
              "1239           1     1     1           13            6        1    1\n",
              "1240           0     6     7           13            6        1    0\n",
              "1241           0     7    16           13            6        1    0\n",
              "1242           1     0     4           13            6        1    0\n",
              "\n",
              "[1243 rows x 7 columns]"
            ]
          },
          "metadata": {
            "tags": []
          },
          "execution_count": 49
        }
      ]
    },
    {
      "cell_type": "code",
      "metadata": {
        "colab": {
          "base_uri": "https://localhost:8080/"
        },
        "id": "xLXR82-t8Y1a",
        "outputId": "e41e5052-e311-4605-d142-095adbb2fbbc"
      },
      "source": [
        "#check if we have sufficient sample size\n",
        "ml_data.info()"
      ],
      "execution_count": 50,
      "outputs": [
        {
          "output_type": "stream",
          "text": [
            "<class 'pandas.core.frame.DataFrame'>\n",
            "RangeIndex: 1243 entries, 0 to 1242\n",
            "Data columns (total 7 columns):\n",
            " #   Column       Non-Null Count  Dtype\n",
            "---  ------       --------------  -----\n",
            " 0   experiment   1243 non-null   int64\n",
            " 1   date         1243 non-null   int64\n",
            " 2   hour         1243 non-null   int64\n",
            " 3   device_make  1243 non-null   int64\n",
            " 4   platform_os  1243 non-null   int64\n",
            " 5   browser      1243 non-null   int64\n",
            " 6   yes          1243 non-null   int64\n",
            "dtypes: int64(7)\n",
            "memory usage: 68.1 KB\n"
          ],
          "name": "stdout"
        }
      ]
    },
    {
      "cell_type": "code",
      "metadata": {
        "colab": {
          "base_uri": "https://localhost:8080/",
          "height": 554
        },
        "id": "PHxndtqs8lha",
        "outputId": "f7dc14a0-16e1-472a-b766-79332dfef0a0"
      },
      "source": [
        "#get correlation of the variables\n",
        "correlation = ml_data.corr()\n",
        "fig, ax = plt.subplots(figsize=(12,9))\n",
        "plt.title(\"correlation of variables\")\n",
        "sns.heatmap(correlation, annot=True)\n",
        "plt.show()"
      ],
      "execution_count": 52,
      "outputs": [
        {
          "output_type": "display_data",
          "data": {
            "image/png": "[encoded data removed]",
            "text/plain": [
              "<Figure size 864x648 with 2 Axes>"
            ]
          },
          "metadata": {
            "tags": [],
            "needs_background": "light"
          }
        }
      ]
    }
  ]
}